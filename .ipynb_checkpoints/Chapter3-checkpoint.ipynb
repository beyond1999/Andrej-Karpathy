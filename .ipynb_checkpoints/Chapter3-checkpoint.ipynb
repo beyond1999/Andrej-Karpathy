{
 "cells": [
  {
   "cell_type": "code",
   "execution_count": 1,
   "id": "ef992704-0c37-495a-ad4b-f30e751e190d",
   "metadata": {},
   "outputs": [],
   "source": [
    "import torch"
   ]
  },
  {
   "cell_type": "code",
   "execution_count": 2,
   "id": "b0ef02b6-7b6a-43f2-8240-765de358cf5f",
   "metadata": {},
   "outputs": [],
   "source": [
    "\n",
    "C = torch.randn((27, 2))   # 形状 [27, 2]\n",
    "X = torch.tensor([[0, 1, 2],\n",
    "                  [3, 4, 5]])\n",
    "Y = C[X]                   # 问题的核心\n"
   ]
  },
  {
   "cell_type": "code",
   "execution_count": 5,
   "id": "2e593105-7811-4de4-a367-712662b08a35",
   "metadata": {},
   "outputs": [
    {
     "data": {
      "text/plain": [
       "tensor([[ 1.7229,  1.1623],\n",
       "        [-0.2811,  0.4724],\n",
       "        [-1.5925, -0.4540],\n",
       "        [ 0.8360, -0.0303],\n",
       "        [ 3.5172, -0.1093],\n",
       "        [-1.1626,  1.1527],\n",
       "        [-0.1892, -1.5313],\n",
       "        [ 2.3344, -0.6605],\n",
       "        [ 0.3138,  0.1057],\n",
       "        [ 0.2916,  1.1527],\n",
       "        [ 2.2592, -0.5524],\n",
       "        [ 0.2156, -0.8751],\n",
       "        [ 0.0073,  1.2154],\n",
       "        [ 1.1304, -0.6504],\n",
       "        [-1.0740, -0.1607],\n",
       "        [ 0.1354, -0.1082],\n",
       "        [ 0.6608, -0.9805],\n",
       "        [-1.4046,  1.7515],\n",
       "        [-1.7278, -2.7727],\n",
       "        [ 1.9631,  0.7612],\n",
       "        [-0.1070,  0.1592],\n",
       "        [-1.4153, -0.2194],\n",
       "        [ 0.2779, -1.1253],\n",
       "        [ 0.5158,  0.5184],\n",
       "        [-1.7501,  0.2225],\n",
       "        [-0.2218,  0.0555],\n",
       "        [ 1.0367,  1.5249]])"
      ]
     },
     "execution_count": 5,
     "metadata": {},
     "output_type": "execute_result"
    }
   ],
   "source": [
    "C"
   ]
  },
  {
   "cell_type": "code",
   "execution_count": 3,
   "id": "f0bf127f-96c8-460f-8159-a6d9ec4ec702",
   "metadata": {},
   "outputs": [
    {
     "data": {
      "text/plain": [
       "tensor([[0, 1, 2],\n",
       "        [3, 4, 5]])"
      ]
     },
     "execution_count": 3,
     "metadata": {},
     "output_type": "execute_result"
    }
   ],
   "source": [
    "X"
   ]
  },
  {
   "cell_type": "code",
   "execution_count": 4,
   "id": "6854e20b-bef6-4743-a94f-42950f747fef",
   "metadata": {},
   "outputs": [
    {
     "data": {
      "text/plain": [
       "tensor([[[ 1.7229,  1.1623],\n",
       "         [-0.2811,  0.4724],\n",
       "         [-1.5925, -0.4540]],\n",
       "\n",
       "        [[ 0.8360, -0.0303],\n",
       "         [ 3.5172, -0.1093],\n",
       "         [-1.1626,  1.1527]]])"
      ]
     },
     "execution_count": 4,
     "metadata": {},
     "output_type": "execute_result"
    }
   ],
   "source": [
    "Y"
   ]
  },
  {
   "cell_type": "code",
   "execution_count": 8,
   "id": "ee19bb76-ebfc-4f43-a5c0-f2e6fbe0915a",
   "metadata": {},
   "outputs": [
    {
     "data": {
      "text/plain": [
       "tensor(4)"
      ]
     },
     "execution_count": 8,
     "metadata": {},
     "output_type": "execute_result"
    }
   ],
   "source": [
    "X[1, 1]"
   ]
  },
  {
   "cell_type": "code",
   "execution_count": 9,
   "id": "e8ebf315-8af1-44b9-8f48-cba894a8f2dc",
   "metadata": {},
   "outputs": [
    {
     "data": {
      "text/plain": [
       "tensor([ 3.5172, -0.1093])"
      ]
     },
     "execution_count": 9,
     "metadata": {},
     "output_type": "execute_result"
    }
   ],
   "source": [
    "C[X][1, 1]"
   ]
  },
  {
   "cell_type": "code",
   "execution_count": 10,
   "id": "b52bb75f-74f8-4985-ada9-b4bbd813ad22",
   "metadata": {},
   "outputs": [
    {
     "data": {
      "text/plain": [
       "tensor([ 3.5172, -0.1093])"
      ]
     },
     "execution_count": 10,
     "metadata": {},
     "output_type": "execute_result"
    }
   ],
   "source": [
    "C[4]"
   ]
  },
  {
   "cell_type": "code",
   "execution_count": null,
   "id": "de52ced8-9cb3-4ed9-85a9-0fdb0c6185fa",
   "metadata": {},
   "outputs": [],
   "source": [
    "C[X[1, 1]]"
   ]
  }
 ],
 "metadata": {
  "kernelspec": {
   "display_name": "Python (gpt)",
   "language": "python",
   "name": "gpt"
  },
  "language_info": {
   "codemirror_mode": {
    "name": "ipython",
    "version": 3
   },
   "file_extension": ".py",
   "mimetype": "text/x-python",
   "name": "python",
   "nbconvert_exporter": "python",
   "pygments_lexer": "ipython3",
   "version": "3.13.7"
  }
 },
 "nbformat": 4,
 "nbformat_minor": 5
}
